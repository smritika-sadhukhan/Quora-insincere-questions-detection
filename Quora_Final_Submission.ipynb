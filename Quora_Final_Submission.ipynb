{
 "cells": [
  {
   "cell_type": "markdown",
   "metadata": {
    "_uuid": "01f361ddc47e0b386595316fe3d7f4dabbd260db",
    "colab_type": "text",
    "id": "MMqG3fHjGveL"
   },
   "source": [
    "#QUORA INSINCERE QUESTION"
   ]
  },
  {
   "cell_type": "code",
   "execution_count": 0,
   "metadata": {
    "colab": {
     "base_uri": "https://localhost:8080/",
     "height": 122
    },
    "colab_type": "code",
    "id": "5R9StZ9memdn",
    "outputId": "edc4f075-2a26-4d09-a533-f30c9f7af427"
   },
   "outputs": [
    {
     "name": "stdout",
     "output_type": "stream",
     "text": [
      "Go to this URL in a browser: https://accounts.google.com/o/oauth2/auth?client_id=947318989803-6bn6qk8qdgf4n4g3pfee6491hc0brc4i.apps.googleusercontent.com&redirect_uri=urn%3Aietf%3Awg%3Aoauth%3A2.0%3Aoob&scope=email%20https%3A%2F%2Fwww.googleapis.com%2Fauth%2Fdocs.test%20https%3A%2F%2Fwww.googleapis.com%2Fauth%2Fdrive%20https%3A%2F%2Fwww.googleapis.com%2Fauth%2Fdrive.photos.readonly%20https%3A%2F%2Fwww.googleapis.com%2Fauth%2Fpeopleapi.readonly&response_type=code\n",
      "\n",
      "Enter your authorization code:\n",
      "··········\n",
      "Mounted at /content/drive\n"
     ]
    }
   ],
   "source": [
    "from google.colab import drive\n",
    "drive.mount('/content/drive')"
   ]
  },
  {
   "cell_type": "code",
   "execution_count": 0,
   "metadata": {
    "colab": {
     "base_uri": "https://localhost:8080/",
     "height": 102
    },
    "colab_type": "code",
    "id": "l_l2T2RcenbC",
    "outputId": "d432493c-e52d-4dff-b715-1b4a1f46edd4"
   },
   "outputs": [
    {
     "name": "stdout",
     "output_type": "stream",
     "text": [
      "Archive:  /content/drive/My Drive/quora-insincere-questions-classification.zip\n",
      "  inflating: train.csv               \n",
      "  inflating: embeddings.zip          \n",
      "  inflating: sample_submission.csv   \n",
      "  inflating: test.csv                \n"
     ]
    }
   ],
   "source": [
    "#/content/drive/My Drive/quora-insincere-questions-classification.zip\n",
    "!unzip \"/content/drive/My Drive/quora-insincere-questions-classification.zip\""
   ]
  },
  {
   "cell_type": "code",
   "execution_count": 0,
   "metadata": {
    "colab": {
     "base_uri": "https://localhost:8080/",
     "height": 187
    },
    "colab_type": "code",
    "id": "OBOG5Q6hVVbP",
    "outputId": "99faa98e-e1d2-457a-ded8-02671d433fed"
   },
   "outputs": [
    {
     "name": "stdout",
     "output_type": "stream",
     "text": [
      "Archive:  /content/embeddings.zip\n",
      "   creating: GoogleNews-vectors-negative300/\n",
      "   creating: glove.840B.300d/\n",
      "   creating: paragram_300_sl999/\n",
      "   creating: wiki-news-300d-1M/\n",
      "  inflating: glove.840B.300d/glove.840B.300d.txt  \n",
      "  inflating: GoogleNews-vectors-negative300/GoogleNews-vectors-negative300.bin  \n",
      "  inflating: wiki-news-300d-1M/wiki-news-300d-1M.vec  \n",
      "  inflating: paragram_300_sl999/README.txt  \n",
      "  inflating: paragram_300_sl999/paragram_300_sl999.txt  \n"
     ]
    }
   ],
   "source": [
    "!unzip \"/content/embeddings.zip\""
   ]
  },
  {
   "cell_type": "markdown",
   "metadata": {
    "colab_type": "text",
    "id": "d9s9eaDZGveT"
   },
   "source": [
    "# Initialization"
   ]
  },
  {
   "cell_type": "markdown",
   "metadata": {
    "colab_type": "text",
    "id": "OFaMANV-GveW"
   },
   "source": [
    "### Imports"
   ]
  },
  {
   "cell_type": "code",
   "execution_count": 0,
   "metadata": {
    "_cell_guid": "b1076dfc-b9ad-4769-8c92-a6c4dae69d19",
    "_kg_hide-input": true,
    "_kg_hide-output": true,
    "_uuid": "8f2839f25d086af736a60e9eeb907d3b93b6e0e5",
    "colab": {},
    "colab_type": "code",
    "id": "IZTOjQ2oGveY"
   },
   "outputs": [],
   "source": [
    "import re\n",
    "import gc\n",
    "import os\n",
    "import time\n",
    "import random\n",
    "import operator\n",
    "import numpy as np\n",
    "import pandas as pd\n",
    "import seaborn as sns\n",
    "from tqdm import tqdm\n",
    "import tensorflow as tf\n",
    "import matplotlib.pyplot as plt\n",
    "#tqdm.pandas()\n",
    "\n",
    "from nltk import word_tokenize\n",
    "from collections import Counter\n",
    "from sklearn.utils import shuffle\n",
    "from tqdm import tqdm_notebook as tqdm\n",
    "from nltk.tokenize import TweetTokenizer\n",
    "from multiprocessing import Pool, cpu_count\n",
    "from keras.preprocessing.text import Tokenizer\n",
    "from sklearn.preprocessing import StandardScaler\n",
    "from sklearn.linear_model import LinearRegression\n",
    "from keras.preprocessing.sequence import pad_sequences\n",
    "from sklearn.metrics import roc_curve, precision_recall_curve, f1_score\n",
    "from sklearn.model_selection import train_test_split, StratifiedKFold, RepeatedStratifiedKFold\n",
    "\n",
    "import torch\n",
    "import torch.nn as nn\n",
    "import torch.utils.data\n",
    "\n",
    "import psutil\n",
    "import multiprocessing\n",
    "# import markovify as mk\n",
    "\n",
    "import warnings\n",
    "warnings.simplefilter(action='ignore', category=FutureWarning)"
   ]
  },
  {
   "cell_type": "code",
   "execution_count": 0,
   "metadata": {
    "colab": {},
    "colab_type": "code",
    "id": "jPpNbk2JiB8q"
   },
   "outputs": [],
   "source": []
  },
  {
   "cell_type": "markdown",
   "metadata": {
    "colab_type": "text",
    "id": "VXkVhuChGvem"
   },
   "source": [
    "### Seeding\n",
    "- For reproductibility"
   ]
  },
  {
   "cell_type": "code",
   "execution_count": 0,
   "metadata": {
    "_kg_hide-input": true,
    "_uuid": "d4b9e0c513495041b334d2cd9f315a1f2aa8192f",
    "colab": {},
    "colab_type": "code",
    "id": "2QjqE9EhGve0"
   },
   "outputs": [],
   "source": [
    "def seed_everything(seed):\n",
    "    random.seed(seed)\n",
    "    os.environ['PYTHONHASHSEED'] = str(seed)\n",
    "    np.random.seed(seed)\n",
    "    torch.manual_seed(seed)\n",
    "    torch.cuda.manual_seed(seed)\n",
    "    torch.backends.cudnn.deterministic = True\n",
    "    tf.set_random_seed(seed)"
   ]
  },
  {
   "cell_type": "code",
   "execution_count": 0,
   "metadata": {
    "_uuid": "e784eedbc8234704b41156808743993c9da13d9f",
    "colab": {},
    "colab_type": "code",
    "id": "L2lCTsMSGve8"
   },
   "outputs": [],
   "source": [
    "seed = 5583\n",
    "seed_everything(seed)\n",
    "\n",
    "begin = time.time()\n",
    "sns.set_style('whitegrid')"
   ]
  },
  {
   "cell_type": "markdown",
   "metadata": {
    "colab_type": "text",
    "id": "EgTn9S5tGvfE"
   },
   "source": [
    "### Embeddings paths"
   ]
  },
  {
   "cell_type": "code",
   "execution_count": 0,
   "metadata": {
    "_kg_hide-input": false,
    "_uuid": "273f8d56af9ac2e322bb273b1c3153e6600e7e31",
    "colab": {},
    "colab_type": "code",
    "id": "rsmtC4NUGvfH",
    "scrolled": true
   },
   "outputs": [],
   "source": [
    "GLOVE = \"/content/glove.840B.300d/glove.840B.300d.txt\"\n",
    "PARAGRAM = \"/content/paragram_300_sl999/paragram_300_sl999.txt\"\n",
    "FASTTEXT = \"/content/wiki-news-300d-1M/wiki-news-300d-1M.vec\""
   ]
  },
  {
   "cell_type": "markdown",
   "metadata": {
    "colab_type": "text",
    "id": "Fi22Bo10FA--"
   },
   "source": [
    "',' array([-0.082752 ,  0.67204  , -0.14987  , -0.064983 ,  0.056491 ,\n",
    "         0.40228  ,  0.0027747, -0.3311   , -0.30691  ,  2.0817 ...\n",
    "\n",
    "'.' array([0.031819 ,  0.013643 ,  0.30265  ,  0.0071297, -0.5819   ,\n",
    "        -0.2774   , -0.050821 , -0.1918   , -0.37846  , -0.06589 ....\n",
    " "
   ]
  },
  {
   "cell_type": "markdown",
   "metadata": {
    "_uuid": "63530632439404a85540565eb31c6390bddb33e9",
    "colab_type": "text",
    "id": "668IdhtlGvfU"
   },
   "source": [
    "# Text Data"
   ]
  },
  {
   "cell_type": "markdown",
   "metadata": {
    "_uuid": "e36041fbc5188f706645603c140cd4f09ec789d0",
    "colab_type": "text",
    "id": "iY_zaHdSGvfY"
   },
   "source": [
    "## Loading"
   ]
  },
  {
   "cell_type": "code",
   "execution_count": 29,
   "metadata": {
    "_cell_guid": "79c7e3d0-c299-4dcb-8224-4455121ee9b0",
    "_uuid": "d629ff2d2480ee46fbb7e2d37f6b5fab8052498a",
    "colab": {
     "base_uri": "https://localhost:8080/",
     "height": 54
    },
    "colab_type": "code",
    "id": "V3DpntxKGvfb",
    "outputId": "ccda277b-129c-45d0-ffc2-ebd35b231738"
   },
   "outputs": [
    {
     "name": "stdout",
     "output_type": "stream",
     "text": [
      "Train shape :  (1306122, 3)\n",
      "Test shape :  (375806, 2)\n"
     ]
    }
   ],
   "source": [
    "train_df = pd.read_csv(\"/content/train.csv\")\n",
    "test_df = pd.read_csv(\"/content/test.csv\")\n",
    "print(\"Train shape : \",train_df.shape)\n",
    "print(\"Test shape : \",test_df.shape)"
   ]
  },
  {
   "cell_type": "markdown",
   "metadata": {
    "_uuid": "6da1c76e8ffd757223b2cdd79b542d3a0cb60772",
    "colab_type": "text",
    "id": "xV9ZgfDFGvga"
   },
   "source": [
    "## Features\n",
    "> Features are taken from one of last year's Jigsaw competiton top scoring kernels\n",
    "\n",
    "- **Toxic word ratio :** The proportion of words in the sentence that are in a list of words labelled as toxic\n",
    "- **Total length :** Length of the sentence as a string\n",
    "- **Unique word ratio :** Proportion of words in the sentence that appear only once\n",
    "- **Average word frequency :** Frequency of the words in the sentence in the overall corpus\n"
   ]
  },
  {
   "cell_type": "markdown",
   "metadata": {
    "_uuid": "7c0d3dbcc83db73425f6e920931eeaf3fb2bdb49",
    "colab_type": "text",
    "id": "98kEoK9dGvgc"
   },
   "source": [
    "### Toxic word ratio"
   ]
  },
  {
   "cell_type": "markdown",
   "metadata": {
    "colab_type": "text",
    "id": "wmyows1pGvge"
   },
   "source": [
    "this are the toxic words, we will count number of toxic words in a question for using it as a feature"
   ]
  },
  {
   "cell_type": "code",
   "execution_count": 30,
   "metadata": {
    "colab": {
     "base_uri": "https://localhost:8080/",
     "height": 72
    },
    "colab_type": "code",
    "id": "sazn42AsjEQ1",
    "outputId": "68dacd32-a3f3-41d4-8ae7-b35ea92019de"
   },
   "outputs": [
    {
     "name": "stdout",
     "output_type": "stream",
     "text": [
      "[nltk_data] Downloading package punkt to /root/nltk_data...\n",
      "[nltk_data]   Package punkt is already up-to-date!\n"
     ]
    },
    {
     "data": {
      "text/plain": [
       "True"
      ]
     },
     "execution_count": 30,
     "metadata": {
      "tags": []
     },
     "output_type": "execute_result"
    }
   ],
   "source": [
    "import nltk\n",
    "nltk.download('punkt')"
   ]
  },
  {
   "cell_type": "markdown",
   "metadata": {
    "colab_type": "text",
    "id": "-Zx46TCt7hnq"
   },
   "source": [
    "Converting all the words in the question small letters,then checking for toxic words to  count them and finally using the ratio of (count_of_toxic_words)/(count_of_all_words)"
   ]
  },
  {
   "cell_type": "code",
   "execution_count": 0,
   "metadata": {
    "_kg_hide-input": true,
    "_uuid": "45a31dad03352e0a1167e87307322b00e861155a",
    "colab": {},
    "colab_type": "code",
    "id": "3BI6XqBVGvgm"
   },
   "outputs": [],
   "source": [
    "def toxic_words_ratio(text):\n",
    "    toxic_words = ['4r5e', '5h1t', '5hit', 'a55', 'anal', 'anus', 'ar5e', 'arrse', 'arse', 'ass', 'ass-fucker', 'asses', 'assfucker', 'assfukka', 'asshole', 'assholes', 'asswhole', 'a_s_s', 'b!tch', 'b00bs', 'b17ch', 'b1tch', 'ballbag', 'balls', 'ballsack', 'bastard', 'beastial', 'beastiality', 'bellend', 'bestial', 'bestiality', 'bi+ch', 'biatch', 'bitch', 'bitcher', 'bitchers', 'bitches', 'bitchin', 'bitching', 'bloody', 'blow', 'job', 'blowjob', 'blowjobs', 'boiolas', 'bollock', 'bollok', 'boner', 'boob', 'boobs', 'booobs', 'boooobs', 'booooobs', 'booooooobs', 'breasts', 'buceta', 'bugger', 'bum', 'bunny', 'fucker', 'butt', 'butthole', 'buttmuch', 'buttplug', 'c0ck', 'c0cksucker', 'carpet', 'muncher', 'cawk', 'chink', 'cipa', 'cl1t', 'clit', 'clitoris', 'clits', 'cnut', 'cock', 'cock-sucker', 'cockface', 'cockhead', 'cockmunch', 'cockmuncher', 'cocks', 'cocksuck', 'cocksucked', 'cocksucker', 'cocksucking', 'cocksucks', 'cocksuka', 'cocksukka', 'cok', 'cokmuncher', 'coksucka', 'coon', 'cox', 'crap', 'cum', 'cummer', 'cumming', 'cums', 'cumshot', 'cunilingus', 'cunillingus', 'cunnilingus', 'cunt', 'cuntlick', 'cuntlicker', 'cuntlicking', 'cunts', 'cyalis', 'cyberfuc', 'cyberfuck', 'cyberfucked', 'cyberfucker', 'cyberfuckers', 'cyberfucking', 'd1ck', 'damn', 'dick', 'dickhead', 'dildo', 'dildos', 'dink', 'dinks', 'dirsa', 'dlck', 'dog-fucker', 'doggin', 'dogging', 'donkeyribber', 'doosh', 'duche', 'dyke', 'ejaculate', 'ejaculated', 'ejaculates', 'ejaculating', 'ejaculatings', 'ejaculation', 'ejakulate', 'f', 'u', 'c', 'k', 'f', 'u', 'c', 'k', 'e', 'r', 'f4nny', 'fag', 'fagging', 'faggitt', 'faggot', 'faggs', 'fagot', 'fagots', 'fags', 'fanny', 'fannyflaps', 'fannyfucker', 'fanyy', 'fatass', 'fcuk', 'fcuker', 'fcuking', 'feck', 'fecker', 'felching', 'fellate', 'fellatio', 'fingerfuck', 'fingerfucked', 'fingerfucker', 'fingerfuckers', 'fingerfucking', 'fingerfucks', 'fistfuck', 'fistfucked', 'fistfucker', 'fistfuckers', 'fistfucking', 'fistfuckings', 'fistfucks', 'flange', 'fook', 'fooker', 'fuck', 'fucka', 'fucked', 'fucker', 'fuckers', 'fuckhead', 'fuckheads', 'fuckin', 'fucking', 'fuckings', 'fuckingshitmotherfucker', 'fuckme', 'fucks', 'fuckwhit', 'fuckwit', 'fudge', 'packer', 'fudgepacker', 'fuk', 'fuker', 'fukker', 'fukkin', 'fuks', 'fukwhit', 'fukwit', 'fux', 'fux0r', 'f_u_c_k', 'gangbang', 'gangbanged', 'gangbangs', 'gaylord', 'gaysex', 'goatse', 'God', 'god-dam', 'god-damned', 'goddamn', 'goddamned', 'hardcoresex', 'hell', 'heshe', 'hoar', 'hoare', 'hoer', 'homo', 'hore', 'horniest', 'horny', 'hotsex', 'jack-off', 'jackoff', 'jap', 'jerk-off', 'jism', 'jiz', 'jizm', 'jizz', 'kawk', 'knob', 'knobead', 'knobed', 'knobend', 'knobhead', 'knobjocky', 'knobjokey', 'kock', 'kondum', 'kondums', 'kum', 'kummer', 'kumming', 'kums', 'kunilingus', 'l3i+ch', 'l3itch', 'labia', 'lmfao', 'lust', 'lusting', 'm0f0', 'm0fo', 'm45terbate', 'ma5terb8', 'ma5terbate', 'masochist', 'master-bate', 'masterb8', 'masterbat*', 'masterbat3', 'masterbate', 'masterbation', 'masterbations', 'masturbate', 'mo-fo', 'mof0', 'mofo', 'mothafuck', 'mothafucka', 'mothafuckas', 'mothafuckaz', 'mothafucked', 'mothafucker', 'mothafuckers', 'mothafuckin', 'mothafucking', 'mothafuckings', 'mothafucks', 'mother', 'fucker', 'motherfuck', 'motherfucked', 'motherfucker', 'motherfuckers', 'motherfuckin', 'motherfucking', 'motherfuckings', 'motherfuckka', 'motherfucks', 'muff', 'mutha', 'muthafecker', 'muthafuckker', 'muther', 'mutherfucker', 'n1gga', 'n1gger', 'nazi', 'nigg3r', 'nigg4h', 'nigga', 'niggah', 'niggas', 'niggaz', 'nigger', 'niggers', 'nob', 'nob', 'jokey', 'nobhead', 'nobjocky', 'nobjokey', 'numbnuts', 'nutsack', 'orgasim', 'orgasims', 'orgasm', 'orgasms', 'p0rn', 'pawn', 'pecker', 'penis', 'penisfucker', 'phonesex', 'phuck', 'phuk', 'phuked', 'phuking', 'phukked', 'phukking', 'phuks', 'phuq', 'pigfucker', 'pimpis', 'piss', 'pissed', 'pisser', 'pissers', 'pisses', 'pissflaps', 'pissin', 'pissing', 'pissoff', 'poop', 'porn', 'porno', 'pornography', 'pornos', 'prick', 'pricks', 'pron', 'pube', 'pusse', 'pussi', 'pussies', 'pussy', 'pussys', 'rectum', 'retard', 'rimjaw', 'rimming', 's', 'hit', 's.o.b.', 'sadist', 'schlong', 'screwing', 'scroat', 'scrote', 'scrotum', 'semen', 'sex', 'sh!+', 'sh!t', 'sh1t', 'shag', 'shagger', 'shaggin', 'shagging', 'shemale', 'shi+', 'shit', 'shitdick', 'shite', 'shited', 'shitey', 'shitfuck', 'shitfull', 'shithead', 'shiting', 'shitings', 'shits', 'shitted', 'shitter', 'shitters', 'shitting', 'shittings', 'shitty', 'skank', 'slut', 'sluts', 'smegma', 'smut', 'snatch', 'son-of-a-bitch', 'spac', 'spunk', 's_h_i_t', 't1tt1e5', 't1tties', 'teets', 'teez', 'testical', 'testicle', 'tit', 'titfuck', 'tits', 'titt', 'tittie5', 'tittiefucker', 'titties', 'tittyfuck', 'tittywank', 'titwank', 'tosser', 'turd', 'tw4t', 'twat', 'twathead', 'twatty', 'twunt', 'twunter', 'v14gra', 'v1gra', 'vagina', 'viagra', 'vulva', 'w00se', 'wang', 'wank', 'wanker', 'wanky', 'whoar', 'whore', 'willies', 'willy', 'xrated', 'xxx']\n",
    "    count = 0\n",
    "    text = word_tokenize(text)\n",
    "    for word in text:\n",
    "        count += int(word.lower() in toxic_words)\n",
    "    return count / len(text)"
   ]
  },
  {
   "cell_type": "code",
   "execution_count": 32,
   "metadata": {
    "colab": {
     "base_uri": "https://localhost:8080/",
     "height": 78
    },
    "colab_type": "code",
    "id": "0s0n15w794nm",
    "outputId": "9f04496c-360d-4f31-b691-b48774b0a9a8"
   },
   "outputs": [
    {
     "data": {
      "text/html": [
       "<div>\n",
       "<style scoped>\n",
       "    .dataframe tbody tr th:only-of-type {\n",
       "        vertical-align: middle;\n",
       "    }\n",
       "\n",
       "    .dataframe tbody tr th {\n",
       "        vertical-align: top;\n",
       "    }\n",
       "\n",
       "    .dataframe thead th {\n",
       "        text-align: right;\n",
       "    }\n",
       "</style>\n",
       "<table border=\"1\" class=\"dataframe\">\n",
       "  <thead>\n",
       "    <tr style=\"text-align: right;\">\n",
       "      <th></th>\n",
       "      <th>qid</th>\n",
       "      <th>question_text</th>\n",
       "      <th>target</th>\n",
       "    </tr>\n",
       "  </thead>\n",
       "  <tbody>\n",
       "    <tr>\n",
       "      <th>0</th>\n",
       "      <td>00002165364db923c7e6</td>\n",
       "      <td>How did Quebec nationalists see their province...</td>\n",
       "      <td>0</td>\n",
       "    </tr>\n",
       "  </tbody>\n",
       "</table>\n",
       "</div>"
      ],
      "text/plain": [
       "                    qid  ... target\n",
       "0  00002165364db923c7e6  ...      0\n",
       "\n",
       "[1 rows x 3 columns]"
      ]
     },
     "execution_count": 32,
     "metadata": {
      "tags": []
     },
     "output_type": "execute_result"
    }
   ],
   "source": [
    "train_df.head(1)"
   ]
  },
  {
   "cell_type": "markdown",
   "metadata": {
    "_uuid": "ae3a258e1e051090d7fd8f0a37a288d4b58def81",
    "colab_type": "text",
    "id": "nD78xrU-Gvgr"
   },
   "source": [
    "### Frequency Ratio"
   ]
  },
  {
   "cell_type": "markdown",
   "metadata": {
    "colab_type": "text",
    "id": "XhzPCDv-_zBo"
   },
   "source": [
    "Building vocab and storing all the frequency of occurance of words in the dictionary 'vocab'"
   ]
  },
  {
   "cell_type": "code",
   "execution_count": 0,
   "metadata": {
    "_uuid": "3e40eafbbbd8276f3dcd486c909b3de3cda92f2b",
    "colab": {},
    "colab_type": "code",
    "id": "GgqeAKM4Gvgu"
   },
   "outputs": [],
   "source": [
    "def build_vocab(texts):\n",
    "    vocab = {}\n",
    "    for sentence in texts:\n",
    "        for word in sentence.split(' '):\n",
    "            try:\n",
    "                vocab[word] += 1\n",
    "            except KeyError:\n",
    "                vocab[word] = 1\n",
    "    return vocab"
   ]
  },
  {
   "cell_type": "code",
   "execution_count": 0,
   "metadata": {
    "_uuid": "2796c9ad0ae0091f4a9e22b18ca8f8dab7714435",
    "colab": {},
    "colab_type": "code",
    "id": "EQf0QzUGGvg1"
   },
   "outputs": [],
   "source": [
    "word_count = build_vocab(list(train_df['question_text']) + list(test_df['question_text']))"
   ]
  },
  {
   "cell_type": "markdown",
   "metadata": {
    "colab_type": "text",
    "id": "OHH7JAxNBrlw"
   },
   "source": [
    "> **word_count**'\n",
    "\n",
    "\n",
    " 'jumped': 76,\n",
    "\n",
    " 'conclusions': 64,\n",
    " \n",
    " 'troubleshooting': 25,\n",
    " \n",
    " 'Hewlett-Packard': 10,\n",
    " \n",
    " 'printer?': 92,\n",
    " \n",
    " \"Isn't\": 1627,\n",
    " \n",
    " 'unfair': 271,\n",
    " \n",
    " 'men': 8674,\n",
    " \n",
    " 'duty': 417,\n",
    " \n",
    " 'NSF': 9,\n",
    " \n",
    " 'spinoff': 6,\n",
    " \n",
    " 'NSFnet': 1,\n",
    " \n",
    " 'helped': 771,\n",
    "\n",
    "\n",
    "\n",
    "\n",
    "\n",
    "\n",
    "---\n",
    "\n",
    "\n",
    "\n",
    "\n",
    "\n",
    "\n"
   ]
  },
  {
   "cell_type": "markdown",
   "metadata": {
    "colab_type": "text",
    "id": "6jqIR42mA9ch"
   },
   "source": [
    "here using the dictionary of all the words to see which words occur most time which may give weightage to good words or sincere reviews"
   ]
  },
  {
   "cell_type": "code",
   "execution_count": 0,
   "metadata": {
    "_uuid": "aa3dbfa18d8e0a705e74d195c6a021e9121795ba",
    "colab": {},
    "colab_type": "code",
    "id": "FKdm_tz2Gvg7"
   },
   "outputs": [],
   "source": [
    "def freq_count(text):\n",
    "    text = text.split(\" \")\n",
    "    all_count = 0\n",
    "    for word in text:\n",
    "        all_count += word_count[word]\n",
    "    return  all_count/len(text)"
   ]
  },
  {
   "cell_type": "markdown",
   "metadata": {
    "_uuid": "514627a14937dc57d75759a0ad4f3475e5676a8e",
    "colab_type": "text",
    "id": "qwffbIRJGvhH"
   },
   "source": [
    "### Making all features"
   ]
  },
  {
   "cell_type": "code",
   "execution_count": 0,
   "metadata": {
    "_kg_hide-input": true,
    "_uuid": "ed9e86df78f0a854a0d9c1de0eced96bf9071f51",
    "colab": {},
    "colab_type": "code",
    "id": "WmyIrTkzGvhQ"
   },
   "outputs": [],
   "source": [
    "def make_features(df):    \n",
    "    df['total_length'] = df['question_text'].apply(len)\n",
    "    df['capitals'] = df['question_text'].apply(lambda comment: sum(1 for c in comment if c.isupper()))\n",
    "    df['caps_vs_length'] = df.apply(lambda row: float(row['capitals'])/float(row['total_length']), axis=1)\n",
    "    df['num_words'] = df.question_text.str.count('\\S+')\n",
    "    df['num_unique_words'] = df['question_text'].apply(lambda comment: len(set(w for w in comment.split())))\n",
    "    df['words_vs_unique'] = df['num_unique_words'] / df['num_words']\n",
    "    df['toxic_ratio'] = df['question_text'].apply(toxic_words_ratio)\n",
    "    df['word_freq'] = df['question_text'].apply(freq_count)"
   ]
  },
  {
   "cell_type": "code",
   "execution_count": 45,
   "metadata": {
    "colab": {
     "base_uri": "https://localhost:8080/",
     "height": 35
    },
    "colab_type": "code",
    "id": "_4IDspBaGvhY",
    "outputId": "3a3651c7-e2d6-43c8-b883-c52c60e795c7"
   },
   "outputs": [
    {
     "name": "stdout",
     "output_type": "stream",
     "text": [
      "Generated 5 features : caps_vs_length, words_vs_unique, toxic_ratio, total_length, word_freq\n"
     ]
    }
   ],
   "source": [
    "features = ['caps_vs_length', 'words_vs_unique', 'toxic_ratio', 'total_length', 'word_freq']\n",
    "nb_features = len(features)\n",
    "\n",
    "print(f'Generated {nb_features} features :', ', '.join(features))"
   ]
  },
  {
   "cell_type": "code",
   "execution_count": 46,
   "metadata": {
    "colab": {
     "base_uri": "https://localhost:8080/",
     "height": 54
    },
    "colab_type": "code",
    "id": "0gF8gHRsY1iY",
    "outputId": "e45106ea-96bb-4fb7-bd45-767ade56ab3c"
   },
   "outputs": [
    {
     "name": "stdout",
     "output_type": "stream",
     "text": [
      "CPU times: user 5min 36s, sys: 294 ms, total: 5min 37s\n",
      "Wall time: 5min 37s\n"
     ]
    }
   ],
   "source": [
    "%%time\n",
    "make_features(train_df)\n",
    "make_features(test_df)"
   ]
  },
  {
   "cell_type": "markdown",
   "metadata": {
    "colab_type": "text",
    "id": "MAe_rUDBGvhk"
   },
   "source": [
    "### Filling NaNs and scaling"
   ]
  },
  {
   "cell_type": "code",
   "execution_count": 0,
   "metadata": {
    "_uuid": "8c336b14c8b69e9b87ea27e2bea1a8721d39dd76",
    "colab": {},
    "colab_type": "code",
    "id": "0N1k3xKEGvhm",
    "scrolled": true
   },
   "outputs": [],
   "source": [
    "features_train = train_df[features].fillna(0)\n",
    "features_test = test_df[features].fillna(0)\n",
    "\n",
    "ss = StandardScaler()\n",
    "ss.fit(np.vstack((features_train, features_test)))\n",
    "features_train = ss.transform(features_train)\n",
    "features_test = ss.transform(features_test)"
   ]
  },
  {
   "cell_type": "markdown",
   "metadata": {
    "_uuid": "9032f827658e0209171a738add697ce7776c3e7a",
    "colab_type": "text",
    "id": "-ti4JDFsGvhv"
   },
   "source": [
    "## Preprocessing\n",
    "- Treating apostrophes\n",
    "- Substituting with dic (contractions, misspels, some punctuation)\n",
    "- Removing 's and lone '\n",
    "- Cleaning numbers\n",
    "- Cleaning special characters\n",
    "- Removing extra spaces\n",
    "- Clean latex tags"
   ]
  },
  {
   "cell_type": "markdown",
   "metadata": {
    "_uuid": "18133bc32f2dbfa94e7628390d2df61910b211d1",
    "colab_type": "text",
    "id": "t99kSq81Gvhx"
   },
   "source": [
    "### Data"
   ]
  },
  {
   "cell_type": "code",
   "execution_count": 0,
   "metadata": {
    "_kg_hide-input": true,
    "_uuid": "ecc0051767a2183c858e80538e6b77eeb3b8502d",
    "colab": {},
    "colab_type": "code",
    "id": "abmQ0GkwGvhy"
   },
   "outputs": [],
   "source": [
    "# All appearing special characters\n",
    "useful_punct = ['_', '☹', '＞', '½', '△', '¿', '¼', '∆', '≥', '⇒', '¬', '∨', '＾', 'µ', '?', '!', '.', ',', '\"', '#', '$', '%', '\\\\', \"'\", '(', ')', '*', '+', '-', '/', ':', ';', '<', '=', '>', '@', '[', ']', '^', '{', '|', '}', '~', '’', '′', '‘', '°', '→', '£', 'ø', '´', '↑', 'θ', '±', '≤', '≠', '...', '⟨', '⟩', '∖', 'ⁿ', '⅔', '❤', '✌', '✅', '✓', '∘', '¨', '″', 'ύ', 'ኤ', 'ል', 'ሮ', 'ኢ', 'የ', 'ኝ', 'ን', 'አ', 'ሁ', '≅', 'ϕ', '‑', '￼', 'ֿ', 'か', 'く', 'れ', '－', 'ș', 'ן', '∪', 'φ', 'ψ', '⊨', 'β', '∠', '«', '»', 'ம', '≈', '⁰', '⁷', '،', '＝', '（', '）', 'ə', 'ɑ', 'ː', '¹', '⅓', 'ř', '《', '》', 'ρ', '∅', '&', '·', '©', '¥', '：', '⋅', '↓', '、', '│', '，', '・', '•', '®', '`', '€', '™', '›', '♥', '←', '×', '§', 'Â', '█', 'à', '…', '“', '★', '”', '–', '●', 'â', '►', '−', '¢', '²', '░', '¶', '▾', '═', '¦', '║', '―', '▓', '—', '‹', '─', '▒', '⊕', '▼', '▪', '†', '■', '▀', '▄', '♫', '☆', 'é', '¯', '♦', '¤', '▲', 'è', '¸', '¾', 'Ã', '∞', '∙', '♪', '╩', '╚', '³', '╦', '╣', '╔', '╗', '▬', 'ï', 'Ø', '‡', '√']\n",
    "useless_punct = ['च', '不', 'ঢ়', '平', 'ᠠ', '錯', '判', '∙', '言', 'ς', 'ل', '្', 'ジ', 'あ', '得', '水', 'ь', '◦', '创', '康', '華', 'ḵ', '☺', '支', '就', '„', '」', '어', '谈', '陈', '团', '腻', '权', '年', '业', 'マ', 'य', 'ا', '売', '甲', '拼', '˂', 'ὤ', '贯', '亚', 'ि', '放', 'ʻ', 'ទ', 'ʖ', '點', '્', '発', '青', '能', '木', 'д', '微', '藤', '̃', '僕', '妒', '͜', 'ន', 'ध', '이', '希', '特', 'ड', '¢', '滢', 'ส', '나', '女', 'క', '没', '什', 'з', '天', '南', 'ʿ', 'ค', 'も', '凰', '步', '籍', '西', 'ำ', '−', 'л', 'ڤ', 'ៃ', '號', 'ص', 'स', '®', 'ʋ', '批', 'រ', '치', '谢', '生', '道', '═', '下', '俄', 'ɖ', '觀', 'வ', '—', 'ی', '您', '♥', '一', 'や', '⊆', 'ʌ', '語', 'ี', '兴', '惶', '瀛', '狐', '⁴', 'प', '臣', 'ద', '―', 'ì', 'ऌ', 'ీ', '自', '信', '健', '受', 'ɨ', '시', 'י', 'ছ', '嬛', '湾', '吃', 'ち', 'ड़', '反', '红', '有', '配', 'ে', 'ឯ', '宮', 'つ', 'μ', '記', '口', '℅ι', 'ो', '狸', '奇', 'о', 'ट', '聖', '蘭', '読', 'ū', '標', '要', 'ត', '识', 'で', '汤', 'ま', 'ʀ', '局', 'リ', '्', 'ไ', '呢', '工', 'ल', '沒', 'τ', 'ិ', 'ö', 'せ', '你', 'ん', 'ュ', '枚', '部', '大', '罗', 'হ', 'て', '表', '报', '攻', 'ĺ', 'ฉ', '∩', '宝', '对', '字', '文', '这', '∑', '髪', 'り', '่', '능', '罢', '내', '阻', '为', '菲', 'ي', 'न', 'ί', 'ɦ', '開', '†', '茹', '做', '東', 'ত', 'に', 'ت', '晓', '키', '悲', 'સ', '好', '›', '上', '存', '없', '하', '知', 'ធ', '斯', ' ', '授', 'ł', '傳', '兰', '封', 'ோ', 'و', 'х', 'だ', '人', '太', '品', '毒', 'ᡳ', '血', '席', '剔', 'п', '蛋', '王', '那', '梦', 'ី', '彩', '甄', 'и', '柏', 'ਨ', '和', '坊', '⌚', '广', '依', '∫', 'į', '故', 'ś', 'ऊ', '几', '日', 'ک', '音', '×', '”', '▾', 'ʊ', 'ज', 'ด', 'ठ', 'उ', 'る', '清', 'ग', 'ط', 'δ', 'ʏ', '官', '∛', '়', '้', '男', '骂', '复', '∂', 'ー', '过', 'য', '以', '短', '翻', 'র', '教', '儀', 'ɛ', '‹', 'へ', '¾', '合', '学', 'ٌ', '학', '挑', 'ष', '比', '体', 'م', 'س', 'អ', 'ת', '訓', '∀', '迎', 'វ', 'ɔ', '٨', '▒', '化', 'చ', '‛', 'প', 'º', 'น', '업', '说', 'ご', '¸', '₹', '儿', '︠', '게', '骨', 'ท', 'ऋ', 'ホ', '茶', '는', 'જ', 'ุ', '羡', '節', 'ਮ', 'উ', '番', 'ড়', '讲', 'ㅜ', '등', '伟', 'จ', '我', 'ล', 'す', 'い', 'ញ', '看', 'ċ', '∧', 'भ', 'ઘ', 'ั', 'ម', '街', 'ય', '还', '鰹', 'ខ', 'ు', '訊', 'म', 'ю', '復', '杨', 'ق', 'त', '金', '味', 'ব', '风', '意', '몇', '佬', '爾', '精', '¶', 'ం', '乱', 'χ', '교', 'ה', '始', 'ᠰ', '了', '个', '克', '্', 'ห', '已', 'ʃ', 'わ', '新', '译', '︡', '本', 'ง', 'б', 'け', 'ి', '明', '¯', '過', 'ك', 'ῥ', 'ف', 'ß', '서', '进', 'ដ', '样', '乐', '寧', '€', 'ณ', 'ル', '乡', '子', 'ﬁ', 'ج', '慕', '–', 'ᡵ', 'Ø', '͡', '제', 'Ω', 'ប', '絕', '눈', 'फ', 'ম', 'గ', '他', 'α', 'ξ', '§', 'ஜ', '黎', 'ね', '복', 'π', 'ú', '鸡', '话', '会', 'ক', '八', '之', '북', 'ن', '¦', '가', 'ו', '恋', '地', 'ῆ', '許', '产', 'ॡ', 'ش', '़', '野', 'ή', 'ɒ', '啧', 'យ', '᠌', 'ᠨ', 'ب', '皎', '老', '公', '☆', 'व', 'ি', 'ល', 'ر', 'គ', '행', 'ង', 'ο', '让', 'ំ', 'λ', 'خ', 'ἰ', '家', 'ট', 'ब', '理', '是', 'め', 'र', '√', '기', 'ν', '玉', '한', '入', 'ד', '别', 'د', 'ะ', '电', 'ા', '♫', 'ع', 'ં', '堵', '嫉', '伊', 'う', '千', '관', '篇', 'क', '非', '荣', '粵', '瑜', '英', '를', '美', '条', '`', '宋', '←', '수', '後', '•', '³', 'ी', '고', '肉', '℃', 'し', '漢', '싱', 'ϵ', '送', 'ه', '落', 'న', 'ក', 'க', 'ℇ', 'た', 'ះ', '中', '射', '♪', '符', 'ឃ', '谷', '分', '酱', 'び', 'থ', 'ة', 'г', 'σ', 'と', '楚', '胡', '饭', 'み', '禮', '主', '直', '÷', '夢', 'ɾ', 'চ', '⃗', '統', '高', '顺', '据', 'ら', '頭', 'よ', '最', 'ా', 'ੁ', '亲', 'ស', '花', '≡', '眼', '病', '…', 'の', '發', 'ா', '汝', '★', '氏', 'ร', '景', 'ᡠ', '读', '件', '仲', 'শ', 'お', 'っ', 'پ', 'ᡤ', 'ч', '♭', '悠', 'ं', '六', '也', 'ռ', 'য়', '恐', 'ह', '可', '啊', '莫', '书', '总', 'ষ', 'ք', '̂', '간', 'な', '此', '愛', 'ర', 'ใ', '陳', 'Ἀ', 'ण', '望', 'द', '请', '油', '露', '니', 'ş', '宗', 'ʍ', '鳳', 'अ', '邋', '的', 'ព', '火', 'ा', 'ก', '約', 'ட', '章', '長', '商', '台', '勢', 'さ', '국', 'Î', '簡', 'ई', '∈', 'ṭ', '經', '族', 'ु', '孫', '身', '坑', 'স', '么', 'ε', '失', '殺', 'ž', 'ર', 'が', '手', 'ា', '心', 'ਾ', '로', '朝', '们', '黒', '欢', '早', '️', 'া', 'आ', 'ɸ', '常', '快', '民', 'ﷺ', 'ូ', '遢', 'η', '国', '无', '江', 'ॠ', '「', 'ন', '™', 'ើ', 'ζ', '紫', 'ె', 'я', '“', '♨', '國', 'े', 'อ', '∞']\n",
    "\n",
    "# Mapping special letters\n",
    "letter_mapping = {'\\u200b':' ', 'ũ': \"u\", 'ẽ': 'e', 'é': \"e\", 'á': \"a\", 'ķ': 'k', 'ï': 'i', 'Ź': 'Z', 'Ż': 'Z', 'Š': 'S', 'Π': ' pi ', 'Ö': 'O', 'É': 'E', 'Ñ': 'N', 'Ž': 'Z', 'ệ': 'e', '²': '2', 'Å': 'A', 'Ā': 'A', 'ế': 'e', 'ễ': 'e', 'ộ': 'o', '⧼': '<', '⧽': '>', 'Ü': 'U', 'Δ': 'delta', 'ợ': 'o', 'İ': 'I', 'Я': 'R', 'О': 'O', 'Č': 'C', 'П': 'pi', 'В': 'B', 'Φ': 'phi', 'ỵ': 'y', 'օ': 'o', 'Ľ': 'L', 'ả': 'a', 'Γ': 'theta', 'Ó': 'O', 'Í': 'I', 'ấ': 'a', 'ụ': 'u', 'Ō': 'O', 'Ο': 'O', 'Σ': 'sigma', 'Â': 'A', 'Ã': 'A', 'ᗯ': 'w', 'ᕼ': \"h\", \"ᗩ\": \"a\", \"ᖇ\": \"r\", \"ᗯ\": \"w\", \"O\": \"o\", \"ᗰ\": \"m\", \"ᑎ\": \"n\", \"ᐯ\": \"v\", \"н\": \"h\", \"м\": \"m\", \"o\": \"o\", \"т\": \"t\", \"в\": \"b\", \"υ\": \"u\",  \"ι\": \"i\",\"н\": \"h\", \"č\": \"c\", \"š\": \"s\", \"ḥ\": \"h\", \"ā\": \"a\", \"ī\": \"i\", \"à\": \"a\", \"ý\": \"y\", \"ò\": \"o\", \"è\": \"e\", \"ù\": \"u\", \"â\": \"a\", \"ğ\": \"g\", \"ó\": \"o\", \"ê\": \"e\", \"ạ\": \"a\", \"ü\": \"u\", \"ä\": \"a\", \"í\": \"i\", \"ō\": \"o\", \"ñ\": \"n\", \"ç\": \"c\", \"ã\": \"a\", \"ć\": \"c\", \"ô\": \"o\", \"с\": \"c\", \"ě\": \"e\", \"æ\": \"ae\", \"î\": \"i\", \"ő\": \"o\", \"å\": \"a\", \"Ä\": \"A\", }"
   ]
  },
  {
   "cell_type": "code",
   "execution_count": 0,
   "metadata": {
    "_kg_hide-input": true,
    "_uuid": "3826897f4f4bd456926ce0238cccc8e3e2a7ee53",
    "colab": {},
    "colab_type": "code",
    "id": "c1rwWYCgGvh3"
   },
   "outputs": [],
   "source": [
    "mispell_dict = {\"trimp\": \"trump\", \"wanket\": \"wanker\",'colour': 'color', 'centre': 'center', 'favourite': 'favorite', 'travelling': 'traveling', 'counselling': 'counseling', 'theatre': 'theater', 'cancelled': 'canceled', 'labour': 'labor', 'organisation': 'organization', 'wwii': 'world war 2', 'citicise': 'criticize', 'youtu ': 'youtube ', 'qoura': 'quora', 'sallary': 'salary', 'whta': 'what', 'narcisist': 'narcissist', 'howdo': 'how do', 'whatare': 'what are', 'howcan': 'how can', 'howmuch': 'how much', 'howmany': 'how many', 'whydo': 'why do', 'doI': 'do I', 'theBest': 'the best', 'howdoes': 'how does', 'mastrubation': 'masturbation', 'mastrubate': 'masturbate', \"mastrubating\": 'masturbating', 'pennis': 'penis', 'etherium': 'ethereum', 'narcissit': 'narcissist', 'bigdata': 'big data', '2k17': '2017', '2k18': '2018', 'qouta': 'quota', 'exboyfriend': 'ex boyfriend', 'airhostess': 'air hostess', \"whst\": 'what', 'watsapp': 'whatsapp', 'demonitisation': 'demonetization', 'demonitization': 'demonetization',}"
   ]
  },
  {
   "cell_type": "markdown",
   "metadata": {
    "_uuid": "e0db95a02a685497b072d2749832755523a87e3e",
    "colab_type": "text",
    "id": "YmL--FfvGvh7"
   },
   "source": [
    "#### All substitutions"
   ]
  },
  {
   "cell_type": "code",
   "execution_count": 0,
   "metadata": {
    "_kg_hide-input": false,
    "_uuid": "f747e2b8793a0ecb1e0b5c2a8fb35e7142084a2b",
    "colab": {},
    "colab_type": "code",
    "id": "gxPUcSWRGvh9"
   },
   "outputs": [],
   "source": [
    "def add_maj(dic):\n",
    "    d = dic.copy()\n",
    "    for w in dic.keys():\n",
    "        try:\n",
    "            d[w[0].upper() + w[1:]] = dic[w][0].upper() + dic[w][1:]\n",
    "        except:\n",
    "            d[w[0].upper()] = dic[w][0].upper()\n",
    "    return d"
   ]
  },
  {
   "cell_type": "code",
   "execution_count": 0,
   "metadata": {
    "_kg_hide-input": true,
    "_uuid": "393f97923716a1210d1a614712129a4916ba86fb",
    "colab": {},
    "colab_type": "code",
    "id": "J3u5xmkrGviD"
   },
   "outputs": [],
   "source": [
    "substitution_dic = {}\n",
    "substitution_dic.update(mispell_dict)\n",
    "substitution_dic = add_maj(substitution_dic)\n",
    "substitution_dic.update(letter_mapping)"
   ]
  },
  {
   "cell_type": "markdown",
   "metadata": {
    "_uuid": "6e07bec25e2aaa775681535973ff5b6ad9a794e2",
    "colab_type": "text",
    "id": "j-bkggHGGviH"
   },
   "source": [
    "#### Substitutions"
   ]
  },
  {
   "cell_type": "code",
   "execution_count": 0,
   "metadata": {
    "_uuid": "76d7f363e592f975b6f2e022180e6df822988d13",
    "colab": {},
    "colab_type": "code",
    "id": "aHPd0TkBGviJ"
   },
   "outputs": [],
   "source": [
    "def _get_substitution(sub_dic):\n",
    "    sub_re = re.compile('(%s)' % '|'.join(sub_dic.keys()))\n",
    "    return sub_dic, sub_re\n",
    "\n",
    "substitutions, substitutions_re = _get_substitution(substitution_dic)\n",
    "\n",
    "def replace_substitution(text):\n",
    "    def replace(match):\n",
    "        return substitutions[match.group(0)]\n",
    "    return substitutions_re.sub(replace, text)"
   ]
  },
  {
   "cell_type": "markdown",
   "metadata": {
    "_uuid": "d933a46addd54cbf5604e015f2068ad1c3e6607d",
    "colab_type": "text",
    "id": "6mPHY3kmGviV"
   },
   "source": [
    "#### Apostrophes"
   ]
  },
  {
   "cell_type": "code",
   "execution_count": 0,
   "metadata": {
    "_uuid": "afb88e1b29c7f811426b9031cfc58382a6690ffa",
    "colab": {},
    "colab_type": "code",
    "id": "8NWeUWjmGviW"
   },
   "outputs": [],
   "source": [
    "def clean_apostrophes(x):\n",
    "    apostrophes = [\"’\", \"‘\", \"´\", \"`\"]\n",
    "    for s in apostrophes:\n",
    "        x = re.sub(s, \"'\", x)\n",
    "    return x"
   ]
  },
  {
   "cell_type": "markdown",
   "metadata": {
    "_uuid": "434f5d0ce954bc74bd5fa6ff73deb41e93cfbeaf",
    "colab_type": "text",
    "id": "d30PitMpGvif"
   },
   "source": [
    "#### 's"
   ]
  },
  {
   "cell_type": "code",
   "execution_count": 0,
   "metadata": {
    "_uuid": "9a169221495370131b024ca0fd1943834998dec9",
    "colab": {},
    "colab_type": "code",
    "id": "2Yo1ywoRGvih"
   },
   "outputs": [],
   "source": [
    "def remove_s(x): \n",
    "    if len(x) > 2:\n",
    "        return re.sub(\"('$ |'$|'s |'s)\", ' ', x)\n",
    "    else:\n",
    "        return x"
   ]
  },
  {
   "cell_type": "markdown",
   "metadata": {
    "_uuid": "aea95aa6cac820d7b2696526f198c0f74188749d",
    "colab_type": "text",
    "id": "DL8z5TBPGvim"
   },
   "source": [
    "#### Spaces"
   ]
  },
  {
   "cell_type": "code",
   "execution_count": 0,
   "metadata": {
    "_uuid": "1535526d3abbc69d6621948bcd02f52d9b797b9b",
    "colab": {},
    "colab_type": "code",
    "id": "54kyymaDGvin"
   },
   "outputs": [],
   "source": [
    "spaces = ['\\u200b', '\\u200e', '\\u202a', '\\u202c', '\\ufeff', '\\uf0d8', '\\u2061', '\\x10', '\\x7f', '\\x9d', '\\xad', '\\xa0']\n",
    "def clean_spaces(text):\n",
    "    for space in spaces:\n",
    "        text = text.replace(space, ' ')\n",
    "    text = text.strip()\n",
    "    text = re.sub('\\s+', ' ', text)\n",
    "    return text"
   ]
  },
  {
   "cell_type": "markdown",
   "metadata": {
    "_uuid": "bef654848609e2342eadfc9ae744caf80b58ca65",
    "colab_type": "text",
    "id": "vRIZf7yvGvit"
   },
   "source": [
    "#### Contractions"
   ]
  },
  {
   "cell_type": "code",
   "execution_count": 0,
   "metadata": {
    "_uuid": "deb633646949aa4365ab3a14a53212e88771ea49",
    "colab": {},
    "colab_type": "code",
    "id": "LZ5bS81mGviu"
   },
   "outputs": [],
   "source": [
    "def decontract(text):\n",
    "    text = re.sub(r\"(W|w)on(\\'|\\’)t \", \"will not \", text)\n",
    "    text = re.sub(r\"(C|c)an(\\'|\\’)t \", \"can not \", text)\n",
    "    text = re.sub(r\"(Y|y)(\\'|\\’)all \", \"you all \", text)\n",
    "    text = re.sub(r\"(Y|y)a(\\'|\\’)ll \", \"you all \", text)\n",
    "    text = re.sub(r\"(I|i)(\\'|\\’)m \", \"i am \", text)\n",
    "    text = re.sub(r\"(A|a)isn(\\'|\\’)t \", \"is not \", text)\n",
    "    text = re.sub(r\"n(\\'|\\’)t \", \" not \", text)\n",
    "    text = re.sub(r\"(\\'|\\’)re \", \" are \", text)\n",
    "    text = re.sub(r\"(\\'|\\’)s \", \" is \", text)\n",
    "    text = re.sub(r\"(\\'|\\’)d \", \" would \", text)\n",
    "    text = re.sub(r\"(\\'|\\’)ll \", \" will \", text)\n",
    "    text = re.sub(r\"(\\'|\\’)t \", \" not \", text)\n",
    "    text = re.sub(r\"(\\'|\\’)ve \", \" have \", text)\n",
    "    return text"
   ]
  },
  {
   "cell_type": "markdown",
   "metadata": {
    "_uuid": "305679ae8304397b069f4fcb21210623d9ee1a56",
    "colab_type": "text",
    "id": "4mTrGaT6Gvi1"
   },
   "source": [
    "#### Numbers"
   ]
  },
  {
   "cell_type": "code",
   "execution_count": 0,
   "metadata": {
    "_uuid": "1e8e6ddf58ef800f8629986af057bd662e0998ae",
    "colab": {},
    "colab_type": "code",
    "id": "3AG-8bWWGvi3"
   },
   "outputs": [],
   "source": [
    "def clean_numbers(text):\n",
    "    text = re.sub(r'(\\d+)([a-zA-Z])', '\\g<1> \\g<2>', text)\n",
    "    text = re.sub(r'(\\d+) (th|st|nd|rd) ', '\\g<1>\\g<2> ', text)\n",
    "    text = re.sub(r'(\\d+),(\\d+)', '\\g<1>\\g<2>', text)\n",
    "    return text"
   ]
  },
  {
   "cell_type": "markdown",
   "metadata": {
    "_uuid": "5d807c0b2ba1570a06d34a02ace1d4a93ac4dd73",
    "colab_type": "text",
    "id": "2qZTyhPHGvi8"
   },
   "source": [
    "#### Special characters"
   ]
  },
  {
   "cell_type": "code",
   "execution_count": 0,
   "metadata": {
    "_uuid": "2304a6cb62d38bd040d77e298be2e68ffc18f7f2",
    "colab": {},
    "colab_type": "code",
    "id": "RcR0PkpPGvi-"
   },
   "outputs": [],
   "source": [
    "def clean_special_chars(text, punct=useful_punct):\n",
    "    for p in punct:\n",
    "        text = text.replace(p, f' {p} ')\n",
    "    return text"
   ]
  },
  {
   "cell_type": "markdown",
   "metadata": {
    "_uuid": "3327c1f0f99a3364072019c3711a955599b77188",
    "colab_type": "text",
    "id": "LCoTtRLqGvjE"
   },
   "source": [
    "#### Latex Tag"
   ]
  },
  {
   "cell_type": "code",
   "execution_count": 0,
   "metadata": {
    "_uuid": "b5d9a972aec0a9bdfb5829a96420f1ca6c9ef988",
    "colab": {},
    "colab_type": "code",
    "id": "pXWUj1xLGvjF"
   },
   "outputs": [],
   "source": [
    "def clean_latex_tag(text):\n",
    "    corr_t = []\n",
    "    for t in text.split(\" \"):\n",
    "        t = t.strip()\n",
    "        if t != '':\n",
    "            corr_t.append(t)\n",
    "    text = ' '.join(corr_t)\n",
    "    text = re.sub('(\\[ math \\]).+(\\[ / math \\])', 'mathematical formula', text)\n",
    "    return text"
   ]
  },
  {
   "cell_type": "markdown",
   "metadata": {
    "_uuid": "4c09c6d749df5f9153a231033307586863f1337a",
    "colab_type": "text",
    "id": "EDxS_XTWGvjK"
   },
   "source": [
    "### Applying stuff"
   ]
  },
  {
   "cell_type": "code",
   "execution_count": 60,
   "metadata": {
    "_uuid": "5c018dc156854979b6a15c4f6dcb8df2dce65675",
    "colab": {
     "base_uri": "https://localhost:8080/",
     "height": 35
    },
    "colab_type": "code",
    "id": "qOmy9xhyGvjS",
    "outputId": "dc9033ec-c972-4a9d-965a-e20f9eaa81d1"
   },
   "outputs": [
    {
     "name": "stdout",
     "output_type": "stream",
     "text": [
      "Number of available cpu cores: 2\n"
     ]
    }
   ],
   "source": [
    "from multiprocessing import Pool, cpu_count\n",
    "print(\"Number of available cpu cores: {}\".format(cpu_count()))\n",
    "\n",
    "def process_in_parallel(function, list_):\n",
    "    with Pool(cpu_count()) as p:\n",
    "        tmp = p.map(function, list_)\n",
    "    return tmp"
   ]
  },
  {
   "cell_type": "code",
   "execution_count": 0,
   "metadata": {
    "_uuid": "c69deec8fc27d3e72acadbf2ded5e1b1bbe87602",
    "colab": {},
    "colab_type": "code",
    "id": "Ef8VwIcpGvjf"
   },
   "outputs": [],
   "source": [
    "def treat_texts(texts):\n",
    "    texts = process_in_parallel(clean_apostrophes, texts)\n",
    "    texts = process_in_parallel(replace_substitution, texts)\n",
    "    texts = process_in_parallel(decontract, texts)\n",
    "    texts = process_in_parallel(remove_s, texts)\n",
    "    texts = process_in_parallel(clean_numbers, texts)\n",
    "    texts = process_in_parallel(clean_special_chars, texts)\n",
    "    texts = process_in_parallel(clean_spaces, texts)\n",
    "    texts = process_in_parallel(clean_latex_tag, texts)   \n",
    "    return texts"
   ]
  },
  {
   "cell_type": "code",
   "execution_count": 62,
   "metadata": {
    "_uuid": "d515dc065cd07136a44935c0c66bff0c54b8804f",
    "colab": {
     "base_uri": "https://localhost:8080/",
     "height": 54
    },
    "colab_type": "code",
    "id": "8c82C-7fGvjn",
    "outputId": "054942fb-b9a7-4274-c3f9-4515e69445ed"
   },
   "outputs": [
    {
     "name": "stdout",
     "output_type": "stream",
     "text": [
      "CPU times: user 9.02 s, sys: 4.43 s, total: 13.4 s\n",
      "Wall time: 2min 44s\n"
     ]
    }
   ],
   "source": [
    "%%time\n",
    "train_df[\"question_text\"] = treat_texts(train_df[\"question_text\"])\n",
    "test_df[\"question_text\"] = treat_texts(test_df[\"question_text\"])"
   ]
  },
  {
   "cell_type": "markdown",
   "metadata": {
    "_uuid": "77496cf68d2a85c0878ffd396de6f50d21673eb2",
    "colab_type": "text",
    "id": "PHtfX9ZiGvj6"
   },
   "source": [
    "## Text Input\n",
    "- Tokenize & pad"
   ]
  },
  {
   "cell_type": "code",
   "execution_count": 0,
   "metadata": {
    "_uuid": "9a3f78378d46733734d412cf40d069a6b4817436",
    "colab": {},
    "colab_type": "code",
    "id": "pIlUM0dPGvj8"
   },
   "outputs": [],
   "source": [
    "len_voc = None\n",
    "max_len = 70"
   ]
  },
  {
   "cell_type": "code",
   "execution_count": 0,
   "metadata": {
    "_uuid": "fc092308b5a26ecb8d6299a704eac1e0a824cf9e",
    "colab": {},
    "colab_type": "code",
    "id": "vSsHySFVGvkA"
   },
   "outputs": [],
   "source": [
    "def make_input_data(X_train, X_test):\n",
    "    t = Tokenizer(num_words=len_voc, filters='', lower=False)\n",
    "    t.fit_on_texts((np.concatenate((X_train, X_test), axis=0)))\n",
    "    X_train = t.texts_to_sequences(X_train)\n",
    "    X_test = t.texts_to_sequences(X_test)\n",
    "    X_train = pad_sequences(X_train, maxlen=max_len, padding='post', truncating='post')\n",
    "    X_test = pad_sequences(X_test, maxlen=max_len, padding='post', truncating='post')\n",
    "\n",
    "    return X_train, X_test, t.word_index"
   ]
  },
  {
   "cell_type": "code",
   "execution_count": 65,
   "metadata": {
    "_uuid": "68847d69312b393b5b81da8c3409b4ea5841dfdb",
    "colab": {
     "base_uri": "https://localhost:8080/",
     "height": 54
    },
    "colab_type": "code",
    "id": "0APrhj6tGvkH",
    "outputId": "6ecc5b73-a18d-4bec-8bb4-acbda95dca7b"
   },
   "outputs": [
    {
     "name": "stdout",
     "output_type": "stream",
     "text": [
      "CPU times: user 42.3 s, sys: 504 ms, total: 42.8 s\n",
      "Wall time: 42.9 s\n"
     ]
    }
   ],
   "source": [
    "%%time\n",
    "X_train, X_test, word_index = make_input_data(train_df['question_text'], test_df['question_text'])"
   ]
  },
  {
   "cell_type": "code",
   "execution_count": 0,
   "metadata": {
    "_uuid": "6a1db7061c715cfe802a3405203606bcbd4fe8f4",
    "colab": {},
    "colab_type": "code",
    "id": "MNFpW54RGvkT"
   },
   "outputs": [],
   "source": [
    "len_voc = len(word_index) + 1"
   ]
  },
  {
   "cell_type": "code",
   "execution_count": 0,
   "metadata": {
    "colab": {},
    "colab_type": "code",
    "id": "yWMIetgNYB1N"
   },
   "outputs": [],
   "source": []
  },
  {
   "cell_type": "markdown",
   "metadata": {
    "colab_type": "text",
    "id": "P7Uw72SqGvkY"
   },
   "source": [
    "### Target"
   ]
  },
  {
   "cell_type": "code",
   "execution_count": 0,
   "metadata": {
    "_uuid": "ba5a1b8109dee2c9fbc628d5da4a7c3447d42fb8",
    "colab": {},
    "colab_type": "code",
    "id": "o2CYwJnLGvkb"
   },
   "outputs": [],
   "source": [
    "y_train = train_df['target'].values"
   ]
  },
  {
   "cell_type": "code",
   "execution_count": 68,
   "metadata": {
    "colab": {
     "base_uri": "https://localhost:8080/",
     "height": 283
    },
    "colab_type": "code",
    "id": "0pVqPbK2Gvkd",
    "outputId": "a77a96ee-f80e-4444-dd43-bc8893427c45"
   },
   "outputs": [
    {
     "data": {
      "image/png": "[encoded data removed]",
      "text/plain": [
       "<Figure size 432x288 with 1 Axes>"
      ]
     },
     "metadata": {
      "tags": []
     },
     "output_type": "display_data"
    }
   ],
   "source": [
    "sns.countplot(y_train)\n",
    "plt.title('Target Repartition', size=15)\n",
    "plt.show()"
   ]
  },
  {
   "cell_type": "markdown",
   "metadata": {
    "_uuid": "57533e8b1621dd25eff1196e9a183e2ef94a13bd",
    "colab_type": "text",
    "id": "2bGXyvqqGvkg"
   },
   "source": [
    "# Embedding matrices\n",
    "- We are using embedding matrices as it has lots of negative words with its vector which can help in predicting unsincere words\n",
    "- Concatenation of Glove, FastText & Paragram"
   ]
  },
  {
   "cell_type": "code",
   "execution_count": 0,
   "metadata": {
    "_kg_hide-input": true,
    "_uuid": "0f838586cdf876df076b2a1232f2f9b65df9650d",
    "colab": {},
    "colab_type": "code",
    "id": "4GOm189GGvkh"
   },
   "outputs": [],
   "source": [
    "def make_embed_index(file, word_index, vocab=[], exceptions={}):\n",
    "    def get_coefs(word,*arr): \n",
    "        return word, np.asarray(arr, dtype='float32')\n",
    "    \n",
    "    if file == FASTTEXT:\n",
    "        '''checking for len if it more than 100 for fasttext so we can split at 101 and store in dictionary 'embeddings_index'''\n",
    "        embeddings_index = dict(get_coefs(*o.split(\" \")) for o in open(file) if len(o)>100 and o.split(\" \")[0] in word_index )\n",
    "\n",
    "    if file == PARAGRAM:\n",
    "        '''checking for len if it more than 100 for paragram so we can split at 101 and store in dictionary 'embeddings_index'''\n",
    "        embeddings_index = dict(get_coefs(*o.split(\" \")) for o in open(file, encoding=\"utf8\", errors='ignore') if len(o)>100 and o.split(\" \")[0] in word_index)\n",
    "    \n",
    "    else: #GloVe\n",
    "        '''checking for space for fasttext so we can split at space and store in dictionary 'embeddings_index'''\n",
    "        embeddings_index = dict(get_coefs(*o.split(\" \")) for o in open(file) if o.split(\" \")[0] in word_index)\n",
    "    \n",
    "\n",
    "    '''trying to compare the word in the embedding files  with the word in vocab in various ways like checking by converting \n",
    "    into capital letter and small letter'''\n",
    "    for word in vocab:\n",
    "        try:\n",
    "            _ = embeddings_index[word]\n",
    "        except:\n",
    "            try:\n",
    "                embeddings_index[word] = embeddings_index[word.lower()]\n",
    "            except:\n",
    "                try:\n",
    "                    embeddings_index[word] = embeddings_index[word.upper()]\n",
    "                except:\n",
    "                    try:\n",
    "                        embeddings_index[word] = embeddings_index[word[0].upper() + word[1:].lower()]\n",
    "                    except:\n",
    "                        pass\n",
    "            \n",
    "    return embeddings_index"
   ]
  },
  {
   "cell_type": "code",
   "execution_count": 0,
   "metadata": {
    "_kg_hide-input": true,
    "_uuid": "83c10d5e2279e7af93f827344a8fd6fd08b975b7",
    "colab": {},
    "colab_type": "code",
    "id": "D6WyiJtQGvkn"
   },
   "outputs": [],
   "source": [
    "''' Finaly stacking all the word and its vector into a np array and using its mean and standard deviation to shape the matrix'''\n",
    "'''Finally we get matrix of the embedded files where each word has its vector form'''\n",
    "\n",
    "def make_embed_mat(embeddings_index):\n",
    "    all_embs = np.stack(embeddings_index.values())   \n",
    "\n",
    "    emb_mean,emb_std = all_embs.mean(), all_embs.std()\n",
    "    embed_size = all_embs.shape[1]\n",
    "\n",
    "    embedding_matrix = np.random.normal(emb_mean, emb_std, (len(word_index)+1, embed_size))\n",
    "    for word, i in word_index.items():\n",
    "        embedding_vector = embeddings_index.get(word)\n",
    "        if embedding_vector is not None: \n",
    "            embedding_matrix[i] = embedding_vector\n",
    "\n",
    "    return embedding_matrix"
   ]
  },
  {
   "cell_type": "code",
   "execution_count": 75,
   "metadata": {
    "_uuid": "03cce1bc5525b77a3d6833d12e3a68ef1e453c19",
    "colab": {
     "base_uri": "https://localhost:8080/",
     "height": 54
    },
    "colab_type": "code",
    "id": "Pvb7qci1Gvky",
    "outputId": "280d6725-9daf-4e7a-f50e-9ff80a33f0ed"
   },
   "outputs": [
    {
     "name": "stdout",
     "output_type": "stream",
     "text": [
      "CPU times: user 39.6 s, sys: 2.21 s, total: 41.8 s\n",
      "Wall time: 42.9 s\n"
     ]
    }
   ],
   "source": [
    "%%time\n",
    "glove_index = make_embed_index(GLOVE, word_index, word_count)\n",
    "glove_index"
   ]
  },
  {
   "cell_type": "code",
   "execution_count": 76,
   "metadata": {
    "colab": {
     "base_uri": "https://localhost:8080/",
     "height": 35
    },
    "colab_type": "code",
    "id": "5NtBzdUQ6sLG",
    "outputId": "f8465786-eb46-4845-b0d0-aa4b5673c079"
   },
   "outputs": [
    {
     "data": {
      "text/plain": [
       "197967"
      ]
     },
     "execution_count": 76,
     "metadata": {
      "tags": []
     },
     "output_type": "execute_result"
    }
   ],
   "source": [
    "len(glove_index)"
   ]
  },
  {
   "cell_type": "code",
   "execution_count": 82,
   "metadata": {
    "colab": {
     "base_uri": "https://localhost:8080/",
     "height": 35
    },
    "colab_type": "code",
    "id": "pWY4fvNiMplS",
    "outputId": "545ff2df-a866-49cf-dae2-b81b4954d45a"
   },
   "outputs": [
    {
     "data": {
      "text/plain": [
       "151241"
      ]
     },
     "execution_count": 82,
     "metadata": {
      "tags": []
     },
     "output_type": "execute_result"
    }
   ],
   "source": [
    "len(para_index)"
   ]
  },
  {
   "cell_type": "code",
   "execution_count": 83,
   "metadata": {
    "colab": {
     "base_uri": "https://localhost:8080/",
     "height": 35
    },
    "colab_type": "code",
    "id": "7UUiCTt-MB5k",
    "outputId": "775404cd-0222-4527-98db-ba6bb9b91c38"
   },
   "outputs": [
    {
     "data": {
      "text/plain": [
       "181063"
      ]
     },
     "execution_count": 83,
     "metadata": {
      "tags": []
     },
     "output_type": "execute_result"
    }
   ],
   "source": [
    "len(fasttext_index)"
   ]
  },
  {
   "cell_type": "code",
   "execution_count": 87,
   "metadata": {
    "colab": {
     "base_uri": "https://localhost:8080/",
     "height": 35
    },
    "colab_type": "code",
    "id": "_1R3P3IgMzvv",
    "outputId": "c10d0b77-74f1-4add-c465-ed9edc16bbc4"
   },
   "outputs": [
    {
     "data": {
      "text/plain": [
       "266048"
      ]
     },
     "execution_count": 87,
     "metadata": {
      "tags": []
     },
     "output_type": "execute_result"
    }
   ],
   "source": [
    "len(embed_concat)"
   ]
  },
  {
   "cell_type": "code",
   "execution_count": 81,
   "metadata": {
    "_uuid": "4dffc0ae5f8fb23d47f561d21bb4e10a902e3ef9",
    "colab": {
     "base_uri": "https://localhost:8080/",
     "height": 54
    },
    "colab_type": "code",
    "id": "JRBf7nH7Gvk5",
    "outputId": "e49b43da-467d-4e74-9422-58e827041a49",
    "scrolled": true
   },
   "outputs": [
    {
     "name": "stdout",
     "output_type": "stream",
     "text": [
      "CPU times: user 41.4 s, sys: 1.81 s, total: 43.2 s\n",
      "Wall time: 43.3 s\n"
     ]
    }
   ],
   "source": [
    "\n",
    "%%time\n",
    "fasttext_index = make_embed_index(FASTTEXT, word_index, word_count)"
   ]
  },
  {
   "cell_type": "code",
   "execution_count": 80,
   "metadata": {
    "_uuid": "9238b8e858ef1cd58b08ac763e751e2d31802562",
    "colab": {
     "base_uri": "https://localhost:8080/",
     "height": 54
    },
    "colab_type": "code",
    "id": "-1rpK_DVGvk8",
    "outputId": "eb5bff0f-fc13-470c-c103-5e8b5da73c0d"
   },
   "outputs": [
    {
     "name": "stdout",
     "output_type": "stream",
     "text": [
      "CPU times: user 29.4 s, sys: 1.72 s, total: 31.1 s\n",
      "Wall time: 32 s\n"
     ]
    }
   ],
   "source": [
    "%%time\n",
    "para_index = make_embed_index(PARAGRAM, word_index,word_count)"
   ]
  },
  {
   "cell_type": "code",
   "execution_count": 0,
   "metadata": {
    "_uuid": "eea5619a84da9f20ec60f59a6e1a215207d1003f",
    "colab": {},
    "colab_type": "code",
    "id": "fcMOYpgMGvlQ"
   },
   "outputs": [],
   "source": [
    "embed_concat = np.concatenate((make_embed_mat(fasttext_index), make_embed_mat(glove_index), make_embed_mat(para_index)), axis=1)"
   ]
  },
  {
   "cell_type": "code",
   "execution_count": 86,
   "metadata": {
    "_uuid": "3da561869a0a2b5e9487c9ac567baaa616c9e55f",
    "colab": {
     "base_uri": "https://localhost:8080/",
     "height": 35
    },
    "colab_type": "code",
    "id": "K0YXfHs8GvlV",
    "outputId": "2f71d12a-2b48-44a1-cf20-653441248f59"
   },
   "outputs": [
    {
     "name": "stdout",
     "output_type": "stream",
     "text": [
      "Initialized in 36.0 minutes\n"
     ]
    }
   ],
   "source": [
    "t_init = time.time()\n",
    "print(f\"Initialized in {(t_init - begin) // 60} minutes\")"
   ]
  },
  {
   "cell_type": "markdown",
   "metadata": {
    "_uuid": "99b48dca7930787a6eb9c7c98271b2c4099d9792",
    "colab_type": "text",
    "id": "zgeAuTRxGvlZ"
   },
   "source": [
    "# Modeling"
   ]
  },
  {
   "cell_type": "markdown",
   "metadata": {
    "colab_type": "text",
    "id": "8Awwa5yIGvla"
   },
   "source": [
    "## Tools"
   ]
  },
  {
   "cell_type": "markdown",
   "metadata": {
    "_uuid": "32eae56339a52e449b87be5b2a0cec3b6b4887b0",
    "colab_type": "text",
    "id": "eNZ7oul4Gvlc"
   },
   "source": [
    "### Noise"
   ]
  },
  {
   "cell_type": "code",
   "execution_count": 0,
   "metadata": {
    "_kg_hide-input": true,
    "_uuid": "ac110c73d7a974925b75cad798dd106e432c5a14",
    "colab": {},
    "colab_type": "code",
    "id": "9IYXDXs8Gvlf"
   },
   "outputs": [],
   "source": [
    "'''Creating some noise in the model so that the model do not memorize the data and make generalizes weights and become robust to outliers'''\n",
    "class Noise(nn.Module):\n",
    "    def __init__(self, mean=0.0, stddev=0.1):\n",
    "        super(Noise, self).__init__()\n",
    "        self.mean = mean\n",
    "        self.stddev = stddev\n",
    "\n",
    "    def forward(self, input):\n",
    "        noise = input.clone().normal_(self.mean, self.stddev)\n",
    "        return input + noise"
   ]
  },
  {
   "cell_type": "markdown",
   "metadata": {
    "_uuid": "eddf0df677a9ea7ab043d3e78acb58c0c17d6e0e",
    "colab_type": "text",
    "id": "fYBZnRkVGvll"
   },
   "source": [
    "### Attention Layer\n",
    "\n"
   ]
  },
  {
   "cell_type": "code",
   "execution_count": 0,
   "metadata": {
    "_kg_hide-input": true,
    "_uuid": "ab443919ba40594af45a68e00c4581dd1274299a",
    "colab": {},
    "colab_type": "code",
    "id": "YDQT9fllGvlo"
   },
   "outputs": [],
   "source": [
    "#https://medium.com/intel-student-ambassadors/implementing-attention-models-in-pytorch-f947034b3e66\n",
    "'''Creating a attention function to focus on specific and important inputs''' \n",
    "\n",
    "class Attention(nn.Module):\n",
    "    def __init__(self, feature_dim, step_dim, bias=True, **kwargs):\n",
    "        super(Attention, self).__init__(**kwargs)\n",
    "        self.supports_masking = True\n",
    "        self.bias = bias\n",
    "        self.feature_dim = feature_dim\n",
    "        self.step_dim = step_dim\n",
    "        self.features_dim = 0\n",
    "        weight = torch.zeros(feature_dim, 1)\n",
    "        nn.init.xavier_uniform_(weight)\n",
    "        self.weight = nn.Parameter(weight)\n",
    "        if bias:\n",
    "            self.b = nn.Parameter(torch.zeros(step_dim))\n",
    "        \n",
    "    def forward(self, x, mask=None):\n",
    "        feature_dim = self.feature_dim\n",
    "        step_dim = self.step_dim\n",
    "        eij = torch.mm(x.contiguous().view(-1, feature_dim), self.weight).view(-1, step_dim)\n",
    "        if self.bias:\n",
    "            eij = eij + self.b  \n",
    "        eij = torch.tanh(eij)\n",
    "        a = torch.exp(eij)\n",
    "        if mask is not None: \n",
    "            a = a * mask\n",
    "        a = a / torch.sum(a, 1, keepdim=True) + 1e-10\n",
    "        weighted_input = x * torch.unsqueeze(a, -1)\n",
    "        return torch.sum(weighted_input, 1)"
   ]
  },
  {
   "cell_type": "markdown",
   "metadata": {
    "_uuid": "5c79a9136f41cf4ad76051632f8152a0f8208336",
    "colab_type": "text",
    "id": "NRKeid9GGvl1"
   },
   "source": [
    "## Model"
   ]
  },
  {
   "cell_type": "code",
   "execution_count": 0,
   "metadata": {
    "_uuid": "c0815521236eed44c8b76de313e1ff6a60024f58",
    "colab": {},
    "colab_type": "code",
    "id": "plPifuffGvl2"
   },
   "outputs": [],
   "source": [
    "''' I used model -LSTM+GRU+AttentionLayer(LSTM)+AttentionLayer(GRU)+Dropout(0.1)+avg_pool1(LSTM)+avg_pool1(GRU)+max_pool(lstm)+max_pool(GRU) '''\n",
    "class Model(nn.Module):\n",
    "    def __init__(self, embedding_matrix):\n",
    "        super(Model, self).__init__()\n",
    "        \n",
    "        h1 = 64\n",
    "        h2 = 32\n",
    "        hd = 32\n",
    "        \n",
    "        self.embedding = nn.Embedding(embedding_matrix.shape[0], embedding_matrix.shape[1])\n",
    "        self.embedding.weight = nn.Parameter(torch.tensor(embedding_matrix, dtype=torch.float32))\n",
    "        self.embedding.weight.requires_grad = False\n",
    "        self.noise = Noise(stddev=0.05)\n",
    "        \n",
    "        self.lstm = nn.LSTM(embedding_matrix.shape[1], 2*h1, bidirectional=False, batch_first=True)\n",
    "        self.gru = nn.GRU(2*h1, 2*h2, bidirectional=False, batch_first=True)\n",
    "        \n",
    "        self.lstm_att = Attention(2*h1, max_len)\n",
    "        self.gru_att = Attention(2*h2, max_len)\n",
    "        \n",
    "        self.dropout = nn.Dropout(0.1)\n",
    "        self.linear = nn.Linear(6*(h1+h2) + nb_features, hd)\n",
    "        self.relu = nn.ReLU()\n",
    "        self.bn = nn.BatchNorm1d(hd, momentum=0.5)\n",
    "        self.out = nn.Linear(hd, 1)\n",
    "    \n",
    "    def forward(self, x):\n",
    "        embed = self.embedding(x[0])\n",
    "        \n",
    "        if self.training:\n",
    "            embed = torch.squeeze(self.noise(torch.unsqueeze(embed, 0)))\n",
    "        \n",
    "        lstm, _ = self.lstm(embed)\n",
    "        gru, _ = self.gru(lstm)\n",
    "        \n",
    "        att1 = self.lstm_att(lstm)\n",
    "        att2 = self.gru_att(gru)\n",
    "        \n",
    "        avg_pool1 = torch.mean(lstm, 1)\n",
    "        avg_pool2 = torch.mean(gru, 1)\n",
    "        max_pool1, _ = torch.max(lstm, 1)\n",
    "        max_pool2, _ = torch.max(gru, 1)\n",
    "        \n",
    "        conc = torch.cat((att1, avg_pool1, max_pool1, att2, avg_pool2, max_pool2, x[1]), 1)\n",
    "        conc = self.dropout(conc)\n",
    "        conc = self.bn(self.relu(self.linear(conc)))\n",
    "        conc = self.dropout(conc)\n",
    "        out = self.out(conc)\n",
    "        \n",
    "        return out"
   ]
  },
  {
   "cell_type": "markdown",
   "metadata": {
    "_uuid": "80580a6745b44b8b63ab725672c8ffafbab57e75",
    "colab_type": "text",
    "id": "gqlm3DA3Gvl9"
   },
   "source": [
    "# Training"
   ]
  },
  {
   "cell_type": "markdown",
   "metadata": {
    "_uuid": "a7a163f4704046ecd6b0d1ad0668bd21186d48b6",
    "colab_type": "text",
    "id": "m7_PvvH2GvmK"
   },
   "source": [
    "### Sigmoid"
   ]
  },
  {
   "cell_type": "code",
   "execution_count": 0,
   "metadata": {
    "_kg_hide-input": true,
    "_uuid": "4a2aa9c20b2d5e6e7aeb18d637b56b281818d7df",
    "colab": {},
    "colab_type": "code",
    "id": "c5VkqRsEGvmP"
   },
   "outputs": [],
   "source": [
    "def sigmoid(x):\n",
    "    return 1 / (1 + np.exp(-x))"
   ]
  },
  {
   "cell_type": "markdown",
   "metadata": {
    "_uuid": "6ef6ada77fc3f425e1b68544aa35862c0ee94127",
    "colab_type": "text",
    "id": "CcUA_rFTGvmW"
   },
   "source": [
    "### Learning rate"
   ]
  },
  {
   "cell_type": "code",
   "execution_count": 0,
   "metadata": {
    "_kg_hide-input": true,
    "_uuid": "6a4f4f82796d3cb04219187c4b5a2872f75376f6",
    "colab": {},
    "colab_type": "code",
    "id": "K298DwRJGvmY"
   },
   "outputs": [],
   "source": [
    "def get_lr(epoch):\n",
    "    if epoch <= 3:\n",
    "        return 0.001\n",
    "    else:\n",
    "        return 0.0005"
   ]
  },
  {
   "cell_type": "markdown",
   "metadata": {
    "_uuid": "0bf57b15f1c9efb94ac1e8dedc685d5de5820102",
    "colab_type": "text",
    "id": "wqEtHiPsGvmc"
   },
   "source": [
    "### Learning curves"
   ]
  },
  {
   "cell_type": "code",
   "execution_count": 0,
   "metadata": {
    "_kg_hide-input": true,
    "_uuid": "76f2aa64a1cee4ec64d90941b6b1c25127268400",
    "colab": {},
    "colab_type": "code",
    "id": "OIuNLx3uGvmf"
   },
   "outputs": [],
   "source": [
    "def plot_history(history, title='Learning Curves'):\n",
    "    plt.plot(history['loss'], label='Train loss')\n",
    "    try : plt.plot(history['val_loss'], label='Test loss')\n",
    "    except: pass\n",
    "    plt.title(title, size=15)\n",
    "    plt.legend()"
   ]
  },
  {
   "cell_type": "markdown",
   "metadata": {
    "_uuid": "748abb0219f4f6c2a46947a9ccac9bd51fcbce75",
    "colab_type": "text",
    "id": "hbi90UA-Gvmj"
   },
   "source": [
    "### Tweak Threshold"
   ]
  },
  {
   "cell_type": "code",
   "execution_count": 0,
   "metadata": {
    "_kg_hide-input": true,
    "_uuid": "5db4fe3e720364fe2452a196d4803bcab86efe7d",
    "colab": {},
    "colab_type": "code",
    "id": "5cbDF0yvGvmk"
   },
   "outputs": [],
   "source": [
    "def tweak_threshold(train_preds, y_train):\n",
    "    tmp = [0,0,0] # idx, cur, max\n",
    "    delta = 0\n",
    "    for tmp[0] in np.arange(0.1, 0.501, 0.01):\n",
    "        tmp[1] = f1_score(y_train, np.array(train_preds)>tmp[0])\n",
    "        if tmp[1] > tmp[2]:\n",
    "            delta = tmp[0]\n",
    "            tmp[2] = tmp[1]\n",
    "    return tmp[2], delta"
   ]
  },
  {
   "cell_type": "markdown",
   "metadata": {
    "_uuid": "886ac42e27a107d63d29777618a60a8ae5ff1d37",
    "colab_type": "text",
    "id": "yQquqi-iGvmu"
   },
   "source": [
    "### Predict"
   ]
  },
  {
   "cell_type": "code",
   "execution_count": 0,
   "metadata": {
    "_kg_hide-input": true,
    "_uuid": "7185f2ee89813b7c279567439fb6448adc988e6e",
    "colab": {},
    "colab_type": "code",
    "id": "Dcfu17agGvmx"
   },
   "outputs": [],
   "source": [
    "#https://www.programcreek.com/python/example/100894/torch.utils.data.TensorDataset\n",
    "''' We are using cuda to efficiently use GPU to speed up'''\n",
    "def predict(X, f,model, batch_size=1024):\n",
    "    y = np.array([])\n",
    "    X = torch.tensor(X, dtype=torch.long).cuda()\n",
    "    f = torch.tensor(f, dtype=torch.float32).cuda()\n",
    "    Xf = torch.utils.data.TensorDataset(X, f)\n",
    "    loader = torch.utils.data.DataLoader(Xf, batch_size=batch_size, shuffle=False)\n",
    "    for i, (x, f) in enumerate(loader):\n",
    "        y = np.concatenate((y, sigmoid(model([x, f]).detach().cpu().numpy())[:, 0]))\n",
    "    return y"
   ]
  },
  {
   "cell_type": "markdown",
   "metadata": {
    "_uuid": "18a67b151f99a9f3243c3ed96cf6a2d52961e2b3",
    "colab_type": "text",
    "id": "_HID7ItcGvm2"
   },
   "source": [
    "### Fitting"
   ]
  },
  {
   "cell_type": "code",
   "execution_count": 0,
   "metadata": {
    "_kg_hide-input": true,
    "_uuid": "c37d78d7fa35b10f306805babcfa76e918c97529",
    "colab": {},
    "colab_type": "code",
    "id": "Q2fKvXObGvm3"
   },
   "outputs": [],
   "source": [
    "def fit(model, X_train, f_train, y_train, X_val=None, f_val=None, y_val=None, epochs=5, batch_size=512):\n",
    "    history = {\"loss\":[], \"val_loss\": []}\n",
    "    best_loss = 10\n",
    "    model.cuda()\n",
    "    \n",
    "    loss_fn = torch.nn.BCEWithLogitsLoss(reduction='sum')\n",
    "    optimizer = torch.optim.Adam(filter(lambda p: p.requires_grad, model.parameters()), lr=0.001)\n",
    "        \n",
    "    X_train = torch.tensor(X_train, dtype=torch.long).cuda()\n",
    "    f_train = torch.tensor(f_train, dtype=torch.float32).cuda()\n",
    "    y_train = torch.tensor(y_train[:, np.newaxis], dtype=torch.float32).cuda()\n",
    "    train = torch.utils.data.TensorDataset(X_train, f_train, y_train)    \n",
    "    train_loader = torch.utils.data.DataLoader(train, batch_size=batch_size, shuffle=True)\n",
    "    \n",
    "    X_val = torch.tensor(X_val, dtype=torch.long).cuda()\n",
    "    f_val = torch.tensor(f_val, dtype=torch.float32).cuda()\n",
    "    y_val = torch.tensor(y_val[:, np.newaxis], dtype=torch.float32).cuda()\n",
    "    val = torch.utils.data.TensorDataset(X_val, f_val, y_val)\n",
    "    val_loader = torch.utils.data.DataLoader(val, batch_size=batch_size, shuffle=False)\n",
    "\n",
    "    for epoch in range(epochs):\n",
    "        model.train()\n",
    "        avg_loss = 0\n",
    "        start_time = time.time()  \n",
    "            \n",
    "        lr = get_lr(epoch)\n",
    "        for param_group in optimizer.param_groups:\n",
    "            param_group['lr'] = lr\n",
    "        \n",
    "        for x_batch, f_batch, y_batch in train_loader:\n",
    "            optimizer.zero_grad()\n",
    "            y_pred = model([x_batch, f_batch])\n",
    "            loss = loss_fn(y_pred, y_batch)\n",
    "            loss.backward()\n",
    "            optimizer.step()\n",
    "            avg_loss += loss.item() / X_train.shape[0]\n",
    "    \n",
    "        model.eval()\n",
    "        avg_val_loss = 0.\n",
    "        for i, (x_batch, f_batch, y_batch) in enumerate(val_loader):\n",
    "            y_pred = model([x_batch, f_batch]).detach()\n",
    "            avg_val_loss += loss_fn(y_pred, y_batch).item() / X_val.shape[0]\n",
    "        \n",
    "        history['loss'].append(avg_loss)\n",
    "        history['val_loss'].append(avg_val_loss)\n",
    "        elapsed_time = time.time() - start_time \n",
    "        print('Epoch {}/{} \\t lr={} \\t loss={:.4f} \\t val_loss={:.4f} \\t time={:.2f}s'.format(epoch + 1, epochs, lr, avg_loss, avg_val_loss, elapsed_time))\n",
    "        \n",
    "    return history"
   ]
  },
  {
   "cell_type": "markdown",
   "metadata": {
    "_uuid": "5388fcfcb1e485f77cb725f0ca32612adad05905",
    "colab_type": "text",
    "id": "2FJnPCTcGvm7"
   },
   "source": [
    "### $k$-fold"
   ]
  },
  {
   "cell_type": "code",
   "execution_count": 0,
   "metadata": {
    "_kg_hide-input": true,
    "_uuid": "0d826f60f049a0ccad48948d5dbdec65168d8699",
    "colab": {},
    "colab_type": "code",
    "id": "TobmjWwEGvm9"
   },
   "outputs": [],
   "source": [
    "def k_fold(model_class, embedding_matrix, X, f, y, X_test, f_test, k=5, batch_size=512, epochs=5, seed=seed):\n",
    "    splits = list(StratifiedKFold(n_splits=k, shuffle=True, random_state=420).split(X, y))\n",
    "    pred_test = np.zeros(X_test.shape[0])\n",
    "    pred_oof = np.zeros(y.shape[0])\n",
    "    histories = []\n",
    "    \n",
    "    for i, (train_idx, val_idx) in enumerate(splits):\n",
    "        print(f\"-------------   Fold {i+1}  ------------- \\n\")\n",
    "        seed_everything(seed + i)\n",
    "        \n",
    "        cp_path = f\"{i}_weights.pth.tar\"\n",
    "        start_time = time.time()\n",
    "        \n",
    "        model = model_class(embedding_matrix)\n",
    "\n",
    "        history = fit(model, X[train_idx], f[train_idx], y[train_idx], X[val_idx], f[val_idx], y[val_idx], epochs=epochs, batch_size=batch_size)\n",
    "        histories.append(history)\n",
    "\n",
    "        pred_oof[val_idx] = predict(X[val_idx], f[val_idx], model)\n",
    "        pred_test += predict(X_test, f_test, model) / k\n",
    "        \n",
    "        score, threshold = tweak_threshold(pred_oof[val_idx], y[val_idx])\n",
    "        \n",
    "        print(f\"\\n Scored {score :.4f} for threshold {threshold :.3f} on validation data\")\n",
    "        print(f\"\\n    Done in {(time.time() - start_time) / 60 :.1f} minutes \\n\")\n",
    "        \n",
    "    return pred_test, pred_oof, histories"
   ]
  },
  {
   "cell_type": "markdown",
   "metadata": {
    "_uuid": "a504bdc5306bd29b9b5f4ee453e515ecc1d1ffb4",
    "colab_type": "text",
    "id": "2LWn713LGvnC"
   },
   "source": [
    "## Training"
   ]
  },
  {
   "cell_type": "code",
   "execution_count": 99,
   "metadata": {
    "_uuid": "cda94967ed5749b9ffa2c918f2924826ab42d61e",
    "colab": {
     "base_uri": "https://localhost:8080/",
     "height": 1000
    },
    "colab_type": "code",
    "id": "vwW2k8SBGvnE",
    "outputId": "b3ce8f43-d399-4588-c4f6-94f4917cf5d1"
   },
   "outputs": [
    {
     "name": "stdout",
     "output_type": "stream",
     "text": [
      "-------------   Fold 1  ------------- \n",
      "\n",
      "Epoch 1/4 \t lr=0.001 \t loss=0.1509 \t val_loss=0.1016 \t time=90.67s\n",
      "Epoch 2/4 \t lr=0.001 \t loss=0.0998 \t val_loss=0.0972 \t time=90.14s\n",
      "Epoch 3/4 \t lr=0.001 \t loss=0.0920 \t val_loss=0.0963 \t time=90.14s\n",
      "Epoch 4/4 \t lr=0.001 \t loss=0.0850 \t val_loss=0.0969 \t time=90.27s\n",
      "\n",
      " Scored 0.6863 for threshold 0.310 on validation data\n",
      "\n",
      "    Done in 6.4 minutes \n",
      "\n",
      "-------------   Fold 2  ------------- \n",
      "\n",
      "Epoch 1/4 \t lr=0.001 \t loss=0.1471 \t val_loss=0.1023 \t time=90.84s\n",
      "Epoch 2/4 \t lr=0.001 \t loss=0.0987 \t val_loss=0.0973 \t time=90.50s\n",
      "Epoch 3/4 \t lr=0.001 \t loss=0.0906 \t val_loss=0.0965 \t time=90.60s\n",
      "Epoch 4/4 \t lr=0.001 \t loss=0.0834 \t val_loss=0.0977 \t time=90.78s\n",
      "\n",
      " Scored 0.6883 for threshold 0.330 on validation data\n",
      "\n",
      "    Done in 6.4 minutes \n",
      "\n",
      "-------------   Fold 3  ------------- \n",
      "\n",
      "Epoch 1/4 \t lr=0.001 \t loss=0.1479 \t val_loss=0.1004 \t time=90.98s\n",
      "Epoch 2/4 \t lr=0.001 \t loss=0.0990 \t val_loss=0.0985 \t time=90.50s\n",
      "Epoch 3/4 \t lr=0.001 \t loss=0.0910 \t val_loss=0.0955 \t time=90.37s\n",
      "Epoch 4/4 \t lr=0.001 \t loss=0.0836 \t val_loss=0.0972 \t time=90.17s\n",
      "\n",
      " Scored 0.6875 for threshold 0.270 on validation data\n",
      "\n",
      "    Done in 6.4 minutes \n",
      "\n",
      "-------------   Fold 4  ------------- \n",
      "\n",
      "Epoch 1/4 \t lr=0.001 \t loss=0.1482 \t val_loss=0.1014 \t time=90.11s\n",
      "Epoch 2/4 \t lr=0.001 \t loss=0.0997 \t val_loss=0.0967 \t time=90.31s\n",
      "Epoch 3/4 \t lr=0.001 \t loss=0.0919 \t val_loss=0.0983 \t time=90.21s\n",
      "Epoch 4/4 \t lr=0.001 \t loss=0.0846 \t val_loss=0.0969 \t time=90.05s\n",
      "\n",
      " Scored 0.6883 for threshold 0.350 on validation data\n",
      "\n",
      "    Done in 6.4 minutes \n",
      "\n",
      "-------------   Fold 5  ------------- \n",
      "\n",
      "Epoch 1/4 \t lr=0.001 \t loss=0.1482 \t val_loss=0.1003 \t time=90.07s\n",
      "Epoch 2/4 \t lr=0.001 \t loss=0.0999 \t val_loss=0.0975 \t time=90.13s\n",
      "Epoch 3/4 \t lr=0.001 \t loss=0.0923 \t val_loss=0.0955 \t time=90.19s\n",
      "Epoch 4/4 \t lr=0.001 \t loss=0.0846 \t val_loss=0.0967 \t time=90.09s\n",
      "\n",
      " Scored 0.6896 for threshold 0.380 on validation data\n",
      "\n",
      "    Done in 6.4 minutes \n",
      "\n"
     ]
    }
   ],
   "source": [
    "pred_test, pred_oof, histories = k_fold(Model, embed_concat, \n",
    "                                        X_train, features_train, y_train, X_test, features_test,\n",
    "                                        k=5, batch_size=512, epochs=4)"
   ]
  },
  {
   "cell_type": "code",
   "execution_count": 100,
   "metadata": {
    "colab": {
     "base_uri": "https://localhost:8080/",
     "height": 35
    },
    "colab_type": "code",
    "id": "f2ayte9tGvnH",
    "outputId": "de62127c-0144-4247-8383-7a9843abdfbb"
   },
   "outputs": [
    {
     "name": "stdout",
     "output_type": "stream",
     "text": [
      "Local CV : 0.6866 for threshold 0.310\n"
     ]
    }
   ],
   "source": [
    "score, threshold = tweak_threshold(pred_oof, y_train)\n",
    "print(f\"Local CV : {score:.4f} for threshold {threshold:.3f}\")"
   ]
  },
  {
   "cell_type": "code",
   "execution_count": 101,
   "metadata": {
    "_uuid": "103cb64bac9dd4645893687d05368acb458de34f",
    "colab": {
     "base_uri": "https://localhost:8080/",
     "height": 609
    },
    "colab_type": "code",
    "id": "eerp6KMFGvnK",
    "outputId": "9cc028c4-95b4-4808-cd77-b38ac9cb8ac2",
    "scrolled": false
   },
   "outputs": [
    {
     "data": {
      "image/png": "[encoded data removed]",
      "text/plain": [
       "<Figure size 1080x720 with 5 Axes>"
      ]
     },
     "metadata": {
      "tags": []
     },
     "output_type": "display_data"
    }
   ],
   "source": [
    "plt.figure(figsize=(15, 10))\n",
    "for i in range(len(histories)):\n",
    "    plt.subplot(3, 2, i+1)\n",
    "    plot_history(histories[i], \"Fold \" + str(i+1))\n",
    "plt.show()"
   ]
  },
  {
   "cell_type": "markdown",
   "metadata": {
    "_uuid": "5870f654f01d91c646900df1e00b98fc8f7b446a",
    "colab_type": "text",
    "id": "dBHYqjy4GvnP"
   },
   "source": [
    "# Submission"
   ]
  },
  {
   "cell_type": "code",
   "execution_count": 0,
   "metadata": {
    "_uuid": "52c1b020bf4a928e8bf0c4956b47d9e75b113ef5",
    "colab": {},
    "colab_type": "code",
    "id": "ODwwuDojGvnR"
   },
   "outputs": [],
   "source": [
    "label_test = (pred_test > threshold).astype(int)"
   ]
  },
  {
   "cell_type": "code",
   "execution_count": 0,
   "metadata": {
    "_uuid": "c90fb4a4ef1b3b2ea06563a6901deac1b38822f3",
    "colab": {},
    "colab_type": "code",
    "id": "3C1lc2EOGvnr"
   },
   "outputs": [],
   "source": [
    "output = pd.DataFrame({\"qid\": test_df[\"qid\"].values})\n",
    "output['prediction'] = label_test\n",
    "output.to_csv(\"submission.csv\", index=False)"
   ]
  },
  {
   "cell_type": "code",
   "execution_count": 114,
   "metadata": {
    "_uuid": "60641a068ca9abe28ff6f5d16d38afe3d6d01636",
    "colab": {
     "base_uri": "https://localhost:8080/",
     "height": 198
    },
    "colab_type": "code",
    "id": "13QjC7NfGvny",
    "outputId": "8b0d209c-09e9-4549-897f-88f7c631c68d"
   },
   "outputs": [
    {
     "data": {
      "text/html": [
       "<div>\n",
       "<style scoped>\n",
       "    .dataframe tbody tr th:only-of-type {\n",
       "        vertical-align: middle;\n",
       "    }\n",
       "\n",
       "    .dataframe tbody tr th {\n",
       "        vertical-align: top;\n",
       "    }\n",
       "\n",
       "    .dataframe thead th {\n",
       "        text-align: right;\n",
       "    }\n",
       "</style>\n",
       "<table border=\"1\" class=\"dataframe\">\n",
       "  <thead>\n",
       "    <tr style=\"text-align: right;\">\n",
       "      <th></th>\n",
       "      <th>qid</th>\n",
       "      <th>prediction</th>\n",
       "    </tr>\n",
       "  </thead>\n",
       "  <tbody>\n",
       "    <tr>\n",
       "      <th>0</th>\n",
       "      <td>0000163e3ea7c7a74cd7</td>\n",
       "      <td>1</td>\n",
       "    </tr>\n",
       "    <tr>\n",
       "      <th>1</th>\n",
       "      <td>00002bd4fb5d505b9161</td>\n",
       "      <td>0</td>\n",
       "    </tr>\n",
       "    <tr>\n",
       "      <th>2</th>\n",
       "      <td>00007756b4a147d2b0b3</td>\n",
       "      <td>0</td>\n",
       "    </tr>\n",
       "    <tr>\n",
       "      <th>3</th>\n",
       "      <td>000086e4b7e1c7146103</td>\n",
       "      <td>0</td>\n",
       "    </tr>\n",
       "    <tr>\n",
       "      <th>4</th>\n",
       "      <td>0000c4c3fbe8785a3090</td>\n",
       "      <td>0</td>\n",
       "    </tr>\n",
       "  </tbody>\n",
       "</table>\n",
       "</div>"
      ],
      "text/plain": [
       "                    qid  prediction\n",
       "0  0000163e3ea7c7a74cd7           1\n",
       "1  00002bd4fb5d505b9161           0\n",
       "2  00007756b4a147d2b0b3           0\n",
       "3  000086e4b7e1c7146103           0\n",
       "4  0000c4c3fbe8785a3090           0"
      ]
     },
     "execution_count": 114,
     "metadata": {
      "tags": []
     },
     "output_type": "execute_result"
    }
   ],
   "source": [
    "output.head()"
   ]
  }
 ],
 "metadata": {
  "accelerator": "GPU",
  "colab": {
   "name": "Quora Final Submission.ipynb",
   "provenance": []
  },
  "kernelspec": {
   "display_name": "Python 3",
   "language": "python",
   "name": "python3"
  },
  "language_info": {
   "codemirror_mode": {
    "name": "ipython",
    "version": 3
   },
   "file_extension": ".py",
   "mimetype": "text/x-python",
   "name": "python",
   "nbconvert_exporter": "python",
   "pygments_lexer": "ipython3",
   "version": "3.6.5"
  }
 },
 "nbformat": 4,
 "nbformat_minor": 1
}
